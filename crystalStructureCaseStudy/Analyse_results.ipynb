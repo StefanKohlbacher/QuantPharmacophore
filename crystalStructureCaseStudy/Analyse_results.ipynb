{
 "cells": [
  {
   "cell_type": "code",
   "execution_count": 28,
   "id": "e5abbd05",
   "metadata": {},
   "outputs": [],
   "source": [
    "import pandas as pd \n",
    "import numpy as np\n",
    "import json \n",
    "import matplotlib.pyplot as plt \n",
    "import seaborn as sn\n",
    "import os\n",
    "import sys \n",
    "sys.path.append('..')\n",
    "from src.hyperpharmacophore import DistanceHyperpharmacophore\n",
    "from src.molecule_tools import SDFReader\n",
    "from src.utils import make_activity_plot\n",
    "from sklearn.metrics import mean_squared_error, r2_score"
   ]
  },
  {
   "cell_type": "code",
   "execution_count": 3,
   "id": "fd7a3db4",
   "metadata": {},
   "outputs": [],
   "source": [
    "target = 'CDK2'"
   ]
  },
  {
   "cell_type": "code",
   "execution_count": 4,
   "id": "3810f4ee",
   "metadata": {},
   "outputs": [
    {
     "data": {
      "text/html": [
       "<div>\n",
       "<style scoped>\n",
       "    .dataframe tbody tr th:only-of-type {\n",
       "        vertical-align: middle;\n",
       "    }\n",
       "\n",
       "    .dataframe tbody tr th {\n",
       "        vertical-align: top;\n",
       "    }\n",
       "\n",
       "    .dataframe thead th {\n",
       "        text-align: right;\n",
       "    }\n",
       "</style>\n",
       "<table border=\"1\" class=\"dataframe\">\n",
       "  <thead>\n",
       "    <tr style=\"text-align: right;\">\n",
       "      <th></th>\n",
       "      <th>yTrue</th>\n",
       "      <th>yPredInt</th>\n",
       "      <th>yPredLig</th>\n",
       "      <th>alignmentScoreInt</th>\n",
       "      <th>alignmentScoreLig</th>\n",
       "    </tr>\n",
       "  </thead>\n",
       "  <tbody>\n",
       "    <tr>\n",
       "      <th>5mhq</th>\n",
       "      <td>6.958607</td>\n",
       "      <td>4.879049</td>\n",
       "      <td>5.356955</td>\n",
       "      <td>0.578164</td>\n",
       "      <td>0.977967</td>\n",
       "    </tr>\n",
       "    <tr>\n",
       "      <th>5jq5</th>\n",
       "      <td>5.630599</td>\n",
       "      <td>0.000000</td>\n",
       "      <td>6.681624</td>\n",
       "      <td>0.000000</td>\n",
       "      <td>0.810559</td>\n",
       "    </tr>\n",
       "    <tr>\n",
       "      <th>2a4l</th>\n",
       "      <td>6.397940</td>\n",
       "      <td>5.205147</td>\n",
       "      <td>4.889940</td>\n",
       "      <td>0.348609</td>\n",
       "      <td>0.980633</td>\n",
       "    </tr>\n",
       "    <tr>\n",
       "      <th>3py0</th>\n",
       "      <td>6.886057</td>\n",
       "      <td>0.000000</td>\n",
       "      <td>6.235997</td>\n",
       "      <td>0.000000</td>\n",
       "      <td>0.712665</td>\n",
       "    </tr>\n",
       "    <tr>\n",
       "      <th>3pxy</th>\n",
       "      <td>5.229148</td>\n",
       "      <td>0.000000</td>\n",
       "      <td>5.022967</td>\n",
       "      <td>0.000000</td>\n",
       "      <td>0.855120</td>\n",
       "    </tr>\n",
       "    <tr>\n",
       "      <th>3wbl</th>\n",
       "      <td>4.638272</td>\n",
       "      <td>0.000000</td>\n",
       "      <td>4.986358</td>\n",
       "      <td>0.000000</td>\n",
       "      <td>0.732737</td>\n",
       "    </tr>\n",
       "    <tr>\n",
       "      <th>3ig7</th>\n",
       "      <td>7.200659</td>\n",
       "      <td>0.000000</td>\n",
       "      <td>5.153976</td>\n",
       "      <td>0.000000</td>\n",
       "      <td>0.711446</td>\n",
       "    </tr>\n",
       "    <tr>\n",
       "      <th>3igg</th>\n",
       "      <td>7.177178</td>\n",
       "      <td>5.595599</td>\n",
       "      <td>5.026721</td>\n",
       "      <td>0.570335</td>\n",
       "      <td>0.717085</td>\n",
       "    </tr>\n",
       "    <tr>\n",
       "      <th>2c6i</th>\n",
       "      <td>4.958607</td>\n",
       "      <td>0.000000</td>\n",
       "      <td>5.916700</td>\n",
       "      <td>0.000000</td>\n",
       "      <td>0.719345</td>\n",
       "    </tr>\n",
       "    <tr>\n",
       "      <th>3qtq</th>\n",
       "      <td>5.508638</td>\n",
       "      <td>5.210315</td>\n",
       "      <td>5.467433</td>\n",
       "      <td>0.705160</td>\n",
       "      <td>0.847278</td>\n",
       "    </tr>\n",
       "    <tr>\n",
       "      <th>3qtz</th>\n",
       "      <td>7.301030</td>\n",
       "      <td>5.725976</td>\n",
       "      <td>5.270367</td>\n",
       "      <td>0.495697</td>\n",
       "      <td>0.848643</td>\n",
       "    </tr>\n",
       "    <tr>\n",
       "      <th>3qts</th>\n",
       "      <td>5.508638</td>\n",
       "      <td>4.993398</td>\n",
       "      <td>5.357357</td>\n",
       "      <td>0.482365</td>\n",
       "      <td>0.846845</td>\n",
       "    </tr>\n",
       "    <tr>\n",
       "      <th>5nev</th>\n",
       "      <td>7.356547</td>\n",
       "      <td>0.000000</td>\n",
       "      <td>5.786734</td>\n",
       "      <td>0.000000</td>\n",
       "      <td>0.932027</td>\n",
       "    </tr>\n",
       "  </tbody>\n",
       "</table>\n",
       "</div>"
      ],
      "text/plain": [
       "         yTrue  yPredInt  yPredLig  alignmentScoreInt  alignmentScoreLig\n",
       "5mhq  6.958607  4.879049  5.356955           0.578164           0.977967\n",
       "5jq5  5.630599  0.000000  6.681624           0.000000           0.810559\n",
       "2a4l  6.397940  5.205147  4.889940           0.348609           0.980633\n",
       "3py0  6.886057  0.000000  6.235997           0.000000           0.712665\n",
       "3pxy  5.229148  0.000000  5.022967           0.000000           0.855120\n",
       "3wbl  4.638272  0.000000  4.986358           0.000000           0.732737\n",
       "3ig7  7.200659  0.000000  5.153976           0.000000           0.711446\n",
       "3igg  7.177178  5.595599  5.026721           0.570335           0.717085\n",
       "2c6i  4.958607  0.000000  5.916700           0.000000           0.719345\n",
       "3qtq  5.508638  5.210315  5.467433           0.705160           0.847278\n",
       "3qtz  7.301030  5.725976  5.270367           0.495697           0.848643\n",
       "3qts  5.508638  4.993398  5.357357           0.482365           0.846845\n",
       "5nev  7.356547  0.000000  5.786734           0.000000           0.932027"
      ]
     },
     "execution_count": 4,
     "metadata": {},
     "output_type": "execute_result"
    }
   ],
   "source": [
    "# load results \n",
    "df = pd.read_csv('data/crystalStructuresProcessed/{}/predictions.csv'.format(target), index_col=0)\n",
    "df"
   ]
  },
  {
   "cell_type": "code",
   "execution_count": 32,
   "id": "c5df6636",
   "metadata": {},
   "outputs": [
    {
     "data": {
      "text/plain": [
       "(1.3591648745695109, -2.376272001429509)"
      ]
     },
     "execution_count": 32,
     "metadata": {},
     "output_type": "execute_result"
    }
   ],
   "source": [
    "predictedPdbs = df[(df.yPredInt != 0)].index\n",
    "yTrue = df.loc[predictedPdbs].yTrue.values\n",
    "yPred = df.loc[predictedPdbs].yPredInt.values\n",
    "rmseInt = mean_squared_error(yTrue, yPred, squared=False)\n",
    "r2Int = r2_score(yTrue, yPred)\n",
    "rmseInt, r2Int"
   ]
  },
  {
   "cell_type": "code",
   "execution_count": 33,
   "id": "ed5239cd",
   "metadata": {},
   "outputs": [
    {
     "data": {
      "image/png": "[encoded data removed]",
      "text/plain": [
       "<Figure size 800x800 with 1 Axes>"
      ]
     },
     "metadata": {},
     "output_type": "display_data"
    }
   ],
   "source": [
    "fig, ax = make_activity_plot(yTrue, yPred)\n",
    "plt.show()\n",
    "plt.close()"
   ]
  },
  {
   "cell_type": "code",
   "execution_count": 34,
   "id": "557a7eb9",
   "metadata": {},
   "outputs": [
    {
     "data": {
      "text/plain": [
       "(1.3264781098596699, -0.9397281371289246)"
      ]
     },
     "execution_count": 34,
     "metadata": {},
     "output_type": "execute_result"
    }
   ],
   "source": [
    "predictedPdbs = df[(df.yPredLig != 0)].index\n",
    "yTrue = df.loc[predictedPdbs].yTrue.values\n",
    "yPred = df.loc[predictedPdbs].yPredLig.values\n",
    "rmseLig = mean_squared_error(yTrue, yPred, squared=False)\n",
    "r2Lig = r2_score(yTrue, yPred)\n",
    "rmseLig, r2Lig"
   ]
  },
  {
   "cell_type": "code",
   "execution_count": 35,
   "id": "7aef1d30",
   "metadata": {},
   "outputs": [
    {
     "data": {
      "image/png": "[encoded data removed]",
      "text/plain": [
       "<Figure size 800x800 with 1 Axes>"
      ]
     },
     "metadata": {},
     "output_type": "display_data"
    }
   ],
   "source": [
    "fig, ax = make_activity_plot(yTrue, yPred)\n",
    "plt.show()\n",
    "plt.close()"
   ]
  },
  {
   "cell_type": "code",
   "execution_count": 20,
   "id": "7758a563",
   "metadata": {},
   "outputs": [],
   "source": [
    "# calculate conformations for ligands\n",
    "for pdbCode in df.index.values:\n",
    "    _input = 'data/crystalStructuresProcessed/{}/{}/ligands.sdf'.format(target, pdbCode)\n",
    "    _output = 'data/crystalStructuresProcessed/{}/{}/ligands_conformations.sdf'.format(target, pdbCode)\n",
    "    os.system('/opt/ligandscout4/iconfgen -i {} -o {} -n 25'.format(_input, _output))"
   ]
  },
  {
   "cell_type": "code",
   "execution_count": 21,
   "id": "66635b3c",
   "metadata": {},
   "outputs": [
    {
     "name": "stdout",
     "output_type": "stream",
     "text": [
      "Loading HP model from data/models/CDK2/model/\n"
     ]
    },
    {
     "name": "stderr",
     "output_type": "stream",
     "text": [
      "/home/stefan/miniconda3/envs/qphar/lib/python3.8/site-packages/sklearn/base.py:310: UserWarning: Trying to unpickle estimator DecisionTreeRegressor from version 0.22.1 when using version 0.24.1. This might lead to breaking code or invalid results. Use at your own risk.\n",
      "  warnings.warn(\n",
      "/home/stefan/miniconda3/envs/qphar/lib/python3.8/site-packages/sklearn/base.py:310: UserWarning: Trying to unpickle estimator RandomForestRegressor from version 0.22.1 when using version 0.24.1. This might lead to breaking code or invalid results. Use at your own risk.\n",
      "  warnings.warn(\n"
     ]
    }
   ],
   "source": [
    "# load qphar model and predict ligand with conformation\n",
    "model = DistanceHyperpharmacophore()\n",
    "model.load('data/models/{}/model/'.format(target))"
   ]
  },
  {
   "cell_type": "code",
   "execution_count": 23,
   "id": "6319dbdb",
   "metadata": {},
   "outputs": [
    {
     "data": {
      "text/plain": [
       "13"
      ]
     },
     "execution_count": 23,
     "metadata": {},
     "output_type": "execute_result"
    }
   ],
   "source": [
    "ligands = []\n",
    "for pdbCode in df.index.values: \n",
    "    r = SDFReader('data/crystalStructuresProcessed/{}/{}/ligands_conformations.sdf'.format(target, pdbCode))\n",
    "    ligands.append(r.read())\n",
    "    \n",
    "len(ligands)"
   ]
  },
  {
   "cell_type": "code",
   "execution_count": 24,
   "id": "b619ea2d",
   "metadata": {},
   "outputs": [
    {
     "data": {
      "text/plain": [
       "(13, 5)"
      ]
     },
     "execution_count": 24,
     "metadata": {},
     "output_type": "execute_result"
    }
   ],
   "source": [
    "df.shape"
   ]
  },
  {
   "cell_type": "code",
   "execution_count": 36,
   "id": "ee38ce87",
   "metadata": {},
   "outputs": [],
   "source": [
    "yPred, alignmentScores, mlFeatures, alignedPharmacophores = model.predict(ligands, returnScores=True, returnFeatureData=True, returnAlignedPharmacophores=True)"
   ]
  },
  {
   "cell_type": "code",
   "execution_count": 37,
   "id": "6e66f6f3",
   "metadata": {},
   "outputs": [
    {
     "data": {
      "text/plain": [
       "array([6.07794883, 5.36739469, 5.54598312, 5.0028451 , 4.83100431,\n",
       "       6.13102805, 5.86179274, 5.73602849, 5.78626317, 5.87505265,\n",
       "       6.25841503, 4.70494404, 5.67766913])"
      ]
     },
     "execution_count": 37,
     "metadata": {},
     "output_type": "execute_result"
    }
   ],
   "source": [
    "yPred"
   ]
  },
  {
   "cell_type": "code",
   "execution_count": 38,
   "id": "cbaa30ce",
   "metadata": {},
   "outputs": [
    {
     "data": {
      "text/plain": [
       "(1.134912521203968, -0.41992519615494395)"
      ]
     },
     "execution_count": 38,
     "metadata": {},
     "output_type": "execute_result"
    }
   ],
   "source": [
    "rmse = mean_squared_error(df.yTrue.values, yPred, squared=False)\n",
    "r2 = r2_score(df.yTrue.values, yPred)\n",
    "rmse, r2"
   ]
  },
  {
   "cell_type": "code",
   "execution_count": 39,
   "id": "b1cb2c8a",
   "metadata": {},
   "outputs": [
    {
     "data": {
      "image/png": "[encoded data removed]",
      "text/plain": [
       "<Figure size 800x800 with 1 Axes>"
      ]
     },
     "metadata": {},
     "output_type": "display_data"
    }
   ],
   "source": [
    "fig, ax = make_activity_plot(df.yTrue.values, yPred)\n",
    "plt.show()\n",
    "plt.close()"
   ]
  },
  {
   "cell_type": "code",
   "execution_count": null,
   "id": "ca9565fa",
   "metadata": {},
   "outputs": [],
   "source": []
  }
 ],
 "metadata": {
  "kernelspec": {
   "display_name": "Python 3",
   "language": "python",
   "name": "python3"
  },
  "language_info": {
   "codemirror_mode": {
    "name": "ipython",
    "version": 3
   },
   "file_extension": ".py",
   "mimetype": "text/x-python",
   "name": "python",
   "nbconvert_exporter": "python",
   "pygments_lexer": "ipython3",
   "version": "3.8.8"
  }
 },
 "nbformat": 4,
 "nbformat_minor": 5
}
